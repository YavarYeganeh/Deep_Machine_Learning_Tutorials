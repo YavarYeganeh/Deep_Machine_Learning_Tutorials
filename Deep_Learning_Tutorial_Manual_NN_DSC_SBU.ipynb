{
  "nbformat": 4,
  "nbformat_minor": 0,
  "metadata": {
    "colab": {
      "name": "Deep-Learning_Tutorial_Manual_NN_DSC_SBU.ipynb",
      "provenance": [],
      "collapsed_sections": []
    },
    "kernelspec": {
      "name": "python3",
      "display_name": "Python 3"
    }
  },
  "cells": [
    {
      "cell_type": "markdown",
      "metadata": {
        "id": "L9ccTlE-X9Io"
      },
      "source": [
        "**Deep Learning (first) Video Tutorial**,  Mehr 30, Posted in the Skype Class Room, DL Recitation\n",
        "\n",
        "[Deep Learning](https://github.com/hhaji/Deep-Learning), Data Science Center, Shahid Beheshti University\n",
        "\n",
        "Presented and written by [‌‌Yavar Taheri Yeganeh](https://github.com/YavarYeganeh)\n"
      ]
    },
    {
      "cell_type": "markdown",
      "metadata": {
        "id": "zMe8PdaaZfdK"
      },
      "source": [
        "\n",
        "### 1) Introduction to Python Classes and Objects\n",
        "### 2) Building fully connected neural networks without using machine learning libraries in Python\n",
        "\n",
        "**External Resources on Python Object-oriented programming:**\n",
        "\n",
        "* https://en.wikipedia.org/wiki/Object-oriented_programming\n",
        "\n",
        "* https://docs.python.org/3/tutorial/classes.html\n",
        "\n",
        "* https://www.w3schools.com/python/python_classes.asp  \n",
        "\n",
        "* https://www.geeksforgeeks.org/python-classes-and-objects/"
      ]
    },
    {
      "cell_type": "markdown",
      "metadata": {
        "id": "zVRUS6JANEa6"
      },
      "source": [
        "<table align=\"left\">\n",
        "  <td>\n",
        "    <a target=\"_blank\" href=https://colab.research.google.com/drive/1MswS0QON4atGHxm85oXqCCKR2fypo7Su?usp=sharing\"><img src=\"https://colab.research.google.com/img/colab_favicon_256px.png\" height=\"100\" width=\"100\" /> <br>  Run in Google Colab</a>\n",
        "  </td>\n",
        "</table>"
      ]
    },
    {
      "cell_type": "code",
      "metadata": {
        "id": "DyyzvUbjqMdG"
      },
      "source": [
        "# We may only need numpy\n",
        "import numpy as np"
      ],
      "execution_count": null,
      "outputs": []
    },
    {
      "cell_type": "code",
      "metadata": {
        "id": "lXsQZ8Yyqc20"
      },
      "source": [
        "# Defining activations\n",
        "def sigmoid(x):\n",
        "  y=1/(1 + np.exp(-x))\n",
        "  return y\n",
        "def tanh(x):\n",
        "  y=np.tanh(x)\n",
        "  return y\n",
        "def relu(x):\n",
        "  if x<0:\n",
        "    return 0\n",
        "  else:\n",
        "    return x\n",
        "## Add more activations ##"
      ],
      "execution_count": null,
      "outputs": []
    },
    {
      "cell_type": "code",
      "metadata": {
        "id": "CSed-YF8uIhe"
      },
      "source": [
        "# A class for a layer\n",
        "class layer:   \n",
        "  def __init__(self, input_dim, out_dim, activation):\n",
        "    self.input_dim=input_dim\n",
        "    self.out_dim=out_dim   \n",
        "    self.w=[[np.random.randn() for i in range(self.input_dim)] for j in range(self.out_dim)]\n",
        "    self.b=[np.random.randn() for i in range(self.out_dim)]\n",
        "    if activation=='sigmoid':\n",
        "      self.activation=sigmoid\n",
        "    elif activation=='tanh':\n",
        "      self.activation=tanh\n",
        "    elif activation=='relu':\n",
        "      self.activation=relu\n",
        "    else:\n",
        "      print('The activation argument is not valid for this layer. Tanh is selected as default')\n",
        "      self.activation=tanh    \n",
        "  def forward(self, input):\n",
        "    output=[]\n",
        "    for i in range(self.out_dim):\n",
        "      neuron_input=0\n",
        "      for j in range(self.input_dim):\n",
        "        neuron_input += input[j]*self.w[i][j]\n",
        "      neuron_input += self.b[i]\n",
        "      output.append(self.activation(neuron_input))\n",
        "    return np.array(output)"
      ],
      "execution_count": null,
      "outputs": []
    },
    {
      "cell_type": "code",
      "metadata": {
        "id": "RUry_dCnBjGt"
      },
      "source": [
        "# A class for Neural Network\n",
        "class NN:\n",
        "  def __init__(self, layers_dimensions, activations):\n",
        "    self.layers_dimensions=layers_dimensions\n",
        "    self.activations=activations\n",
        "    self.layers=[]\n",
        "    for i in range (len(layers_dimensions)-1): # I assumed to have layers_dimensions[0] as input dimension \n",
        "      self.layers.append(layer(layers_dimensions[i],layers_dimensions[i+1],activations[i]))\n",
        "  def forward_pass(self, input):\n",
        "    hidden_state=input\n",
        "    for i in range (len(self.layers)):\n",
        "      hidden_state=self.layers[i].forward(hidden_state)\n",
        "    return hidden_state \n",
        "## You can more methods, including train (for updating parameters), evaluation, accouracy, and ... ## "
      ],
      "execution_count": null,
      "outputs": []
    },
    {
      "cell_type": "markdown",
      "metadata": {
        "id": "9Aj05_YHR4La"
      },
      "source": [
        "# Now it's time for testing"
      ]
    },
    {
      "cell_type": "code",
      "metadata": {
        "id": "BF2urhFqttKn",
        "outputId": "b13ae6b6-74e2-48a6-b213-17005b7525b0",
        "colab": {
          "base_uri": "https://localhost:8080/",
          "height": 34
        }
      },
      "source": [
        "# Testing activations\n",
        "print(sigmoid(-1),tanh(-1),relu(-1))"
      ],
      "execution_count": null,
      "outputs": [
        {
          "output_type": "stream",
          "text": [
            "0.2689414213699951 -0.7615941559557649 0\n"
          ],
          "name": "stdout"
        }
      ]
    },
    {
      "cell_type": "code",
      "metadata": {
        "id": "Q6VqTc4oSQab",
        "outputId": "a98bdff1-8d6d-49e9-8c74-e94582b0ea76",
        "colab": {
          "base_uri": "https://localhost:8080/",
          "height": 139
        }
      },
      "source": [
        "# Testing layer class\n",
        "test_layer=layer(10,30,'i')\n",
        "input1=np.random.randn(10)\n",
        "test_layer.forward(input1)"
      ],
      "execution_count": null,
      "outputs": [
        {
          "output_type": "stream",
          "text": [
            "The activation argument is not valid for this layer. Tanh is selected as default\n"
          ],
          "name": "stdout"
        },
        {
          "output_type": "execute_result",
          "data": {
            "text/plain": [
              "array([-0.93353496, -0.97908677,  0.98920752,  0.97304912, -0.91979969,\n",
              "       -0.38530038,  0.99330304, -0.62128213, -0.53066471,  0.83361013,\n",
              "       -0.68022727,  0.86479381,  0.65063539,  0.97093362,  0.99679228,\n",
              "       -0.99971306,  0.99999407,  0.99096745, -0.97457004,  0.19962093,\n",
              "       -0.92545288,  0.97153473, -0.58388052,  0.98457424, -0.46088299,\n",
              "        0.99874799, -0.51049045, -0.99875616, -0.94919186,  0.05139802])"
            ]
          },
          "metadata": {
            "tags": []
          },
          "execution_count": 6
        }
      ]
    },
    {
      "cell_type": "code",
      "metadata": {
        "id": "01Wk8LXiSwwN",
        "outputId": "af89a9ea-6b1c-4f54-c778-1ddd8a5405d7",
        "colab": {
          "base_uri": "https://localhost:8080/",
          "height": 72
        }
      },
      "source": [
        "print(test_layer.w[29],'\\n',test_layer.b[29])"
      ],
      "execution_count": null,
      "outputs": [
        {
          "output_type": "stream",
          "text": [
            "[0.41700290858265116, 1.324867262330723, -0.33567763430969566, -0.597422988102234, 0.5570689335103333, 0.6871954896968677, -1.351084209499533, -0.4422148442463709, 2.0836118016448246, -0.4992036614728939] \n",
            " 1.778665802338415\n"
          ],
          "name": "stdout"
        }
      ]
    },
    {
      "cell_type": "code",
      "metadata": {
        "id": "QVwZoSrrTZIi",
        "outputId": "141f54bf-3eaf-42d2-f83c-6ba7aebf3f2f",
        "colab": {
          "base_uri": "https://localhost:8080/",
          "height": 121
        }
      },
      "source": [
        "test_layer.b[29]=100\n",
        "test_layer.forward(input1)"
      ],
      "execution_count": null,
      "outputs": [
        {
          "output_type": "execute_result",
          "data": {
            "text/plain": [
              "array([-0.93353496, -0.97908677,  0.98920752,  0.97304912, -0.91979969,\n",
              "       -0.38530038,  0.99330304, -0.62128213, -0.53066471,  0.83361013,\n",
              "       -0.68022727,  0.86479381,  0.65063539,  0.97093362,  0.99679228,\n",
              "       -0.99971306,  0.99999407,  0.99096745, -0.97457004,  0.19962093,\n",
              "       -0.92545288,  0.97153473, -0.58388052,  0.98457424, -0.46088299,\n",
              "        0.99874799, -0.51049045, -0.99875616, -0.94919186,  1.        ])"
            ]
          },
          "metadata": {
            "tags": []
          },
          "execution_count": 8
        }
      ]
    },
    {
      "cell_type": "code",
      "metadata": {
        "id": "K88AdqqxGk-c",
        "outputId": "69bf512f-e933-4b66-f5e3-76a78e70b4d3",
        "colab": {
          "base_uri": "https://localhost:8080/",
          "height": 52
        }
      },
      "source": [
        "# Testing neural network class\n",
        "test_net=NN([5,10,15,20],['s','sigmoid','e'])"
      ],
      "execution_count": null,
      "outputs": [
        {
          "output_type": "stream",
          "text": [
            "The activation argument is not valid for this layer. Tanh is selected as default\n",
            "The activation argument is not valid for this layer. Tanh is selected as default\n"
          ],
          "name": "stdout"
        }
      ]
    },
    {
      "cell_type": "code",
      "metadata": {
        "id": "QT93-cwzG5Hm",
        "outputId": "22f6e2f8-5ae1-42ee-e53f-27c4ae642c38",
        "colab": {
          "base_uri": "https://localhost:8080/",
          "height": 34
        }
      },
      "source": [
        "len(test_net.layers)"
      ],
      "execution_count": null,
      "outputs": [
        {
          "output_type": "execute_result",
          "data": {
            "text/plain": [
              "3"
            ]
          },
          "metadata": {
            "tags": []
          },
          "execution_count": 10
        }
      ]
    },
    {
      "cell_type": "code",
      "metadata": {
        "id": "lsmGS1xXHZMZ",
        "outputId": "ab228410-ea15-41ec-fb64-ecdb69afc323",
        "colab": {
          "base_uri": "https://localhost:8080/",
          "height": 191
        }
      },
      "source": [
        "test_net.layers[1].w[1]"
      ],
      "execution_count": null,
      "outputs": [
        {
          "output_type": "execute_result",
          "data": {
            "text/plain": [
              "[-0.7397661284243673,\n",
              " 0.503316016356973,\n",
              " -1.0431681004349482,\n",
              " 0.5441639352955582,\n",
              " 0.2682470771743236,\n",
              " 0.3787298766210846,\n",
              " -0.707159964349045,\n",
              " 1.2036701117326185,\n",
              " -0.5936589649792265,\n",
              " 0.6074951794970046]"
            ]
          },
          "metadata": {
            "tags": []
          },
          "execution_count": 11
        }
      ]
    },
    {
      "cell_type": "code",
      "metadata": {
        "id": "h0NpLOROI6cL",
        "outputId": "6ee404b0-7b05-4e50-9945-564789257da9",
        "colab": {
          "base_uri": "https://localhost:8080/",
          "height": 86
        }
      },
      "source": [
        "input2=np.random.randn(5)\n",
        "input2\n",
        "test_net.forward_pass(input2)"
      ],
      "execution_count": null,
      "outputs": [
        {
          "output_type": "execute_result",
          "data": {
            "text/plain": [
              "array([-0.9999611 ,  0.99156094,  0.90188928,  0.73662001, -0.70641376,\n",
              "        0.99984406, -0.9798219 , -0.96223775,  0.93403123,  0.36627584,\n",
              "        0.99611893,  0.96871388,  0.94179617,  0.91431363, -0.547283  ,\n",
              "        0.97880884, -0.89746293,  0.99449513, -0.2264744 , -0.5639643 ])"
            ]
          },
          "metadata": {
            "tags": []
          },
          "execution_count": 12
        }
      ]
    },
    {
      "cell_type": "code",
      "metadata": {
        "id": "wP_VtrE3JNA3",
        "outputId": "b3efed56-005d-4f25-be94-807e03c5634c",
        "colab": {
          "base_uri": "https://localhost:8080/",
          "height": 34
        }
      },
      "source": [
        "test_net.layers[2].b[19]=100\n",
        "test_net.layers[2].b[19]"
      ],
      "execution_count": null,
      "outputs": [
        {
          "output_type": "execute_result",
          "data": {
            "text/plain": [
              "100"
            ]
          },
          "metadata": {
            "tags": []
          },
          "execution_count": 13
        }
      ]
    },
    {
      "cell_type": "code",
      "metadata": {
        "id": "qM5YmMSoLSS8",
        "outputId": "66959a37-6317-4eb3-ed42-704fe631c386",
        "colab": {
          "base_uri": "https://localhost:8080/",
          "height": 86
        }
      },
      "source": [
        "test_net.forward_pass(input2)"
      ],
      "execution_count": null,
      "outputs": [
        {
          "output_type": "execute_result",
          "data": {
            "text/plain": [
              "array([-0.9999611 ,  0.99156094,  0.90188928,  0.73662001, -0.70641376,\n",
              "        0.99984406, -0.9798219 , -0.96223775,  0.93403123,  0.36627584,\n",
              "        0.99611893,  0.96871388,  0.94179617,  0.91431363, -0.547283  ,\n",
              "        0.97880884, -0.89746293,  0.99449513, -0.2264744 ,  1.        ])"
            ]
          },
          "metadata": {
            "tags": []
          },
          "execution_count": 14
        }
      ]
    },
    {
      "cell_type": "code",
      "metadata": {
        "id": "uICLmE6TLuF0",
        "outputId": "6394ade8-de5b-4ce7-ba9b-5bd90e5a23ff",
        "colab": {
          "base_uri": "https://localhost:8080/",
          "height": 34
        }
      },
      "source": [
        "test_net.layers[2].w[18][14]=-1000\n",
        "test_net.layers[2].w[18][14]"
      ],
      "execution_count": null,
      "outputs": [
        {
          "output_type": "execute_result",
          "data": {
            "text/plain": [
              "-1000"
            ]
          },
          "metadata": {
            "tags": []
          },
          "execution_count": 15
        }
      ]
    },
    {
      "cell_type": "code",
      "metadata": {
        "id": "9V4raTicL1mS",
        "outputId": "05961205-2642-4e7b-a5aa-e7ed7f80fc56",
        "colab": {
          "base_uri": "https://localhost:8080/",
          "height": 86
        }
      },
      "source": [
        "test_net.forward_pass(input2)"
      ],
      "execution_count": null,
      "outputs": [
        {
          "output_type": "execute_result",
          "data": {
            "text/plain": [
              "array([-0.9999611 ,  0.99156094,  0.90188928,  0.73662001, -0.70641376,\n",
              "        0.99984406, -0.9798219 , -0.96223775,  0.93403123,  0.36627584,\n",
              "        0.99611893,  0.96871388,  0.94179617,  0.91431363, -0.547283  ,\n",
              "        0.97880884, -0.89746293,  0.99449513, -1.        ,  1.        ])"
            ]
          },
          "metadata": {
            "tags": []
          },
          "execution_count": 16
        }
      ]
    },
    {
      "cell_type": "code",
      "metadata": {
        "id": "PV4gmXqiMFsC",
        "outputId": "09539032-d321-45d9-bcf5-2554bf690350",
        "colab": {
          "base_uri": "https://localhost:8080/",
          "height": 34
        }
      },
      "source": [
        "test_net.layers[0].w[9][4]=-1000\n",
        "test_net.layers[0].w[9][4]"
      ],
      "execution_count": null,
      "outputs": [
        {
          "output_type": "execute_result",
          "data": {
            "text/plain": [
              "-1000"
            ]
          },
          "metadata": {
            "tags": []
          },
          "execution_count": 17
        }
      ]
    },
    {
      "cell_type": "code",
      "metadata": {
        "id": "KqpnJgaxMahk",
        "outputId": "c313d844-fbfa-425a-c780-4753af5878bf",
        "colab": {
          "base_uri": "https://localhost:8080/",
          "height": 86
        }
      },
      "source": [
        "test_net.forward_pass(input2)"
      ],
      "execution_count": null,
      "outputs": [
        {
          "output_type": "execute_result",
          "data": {
            "text/plain": [
              "array([-0.99996564,  0.98691248,  0.98304989,  0.92102293, -0.96387704,\n",
              "        0.9995454 , -0.98587014, -0.98809055,  0.73913584,  0.52810047,\n",
              "        0.94186828,  0.93412322,  0.86911019,  0.97699998, -0.64881778,\n",
              "        0.98313544, -0.88168777,  0.9897068 , -1.        ,  1.        ])"
            ]
          },
          "metadata": {
            "tags": []
          },
          "execution_count": 18
        }
      ]
    },
    {
      "cell_type": "code",
      "metadata": {
        "id": "oPAWrjdrVhuG",
        "outputId": "a8b71971-ca6d-4def-e2ce-d1513da27e99",
        "colab": {
          "base_uri": "https://localhost:8080/",
          "height": 451
        }
      },
      "source": [
        "test_layers=np.random.randint(10, high=100, size=201)\n",
        "print(test_layers)\n",
        "test_activations= ['tanh' for i in range(200)]\n",
        "test_deep_net=NN(test_layers,test_activations)\n",
        "print('\\n',len(test_deep_net.layers),'\\n')\n",
        "test_deep_net.forward_pass(np.random.randn(test_layers[0]))"
      ],
      "execution_count": null,
      "outputs": [
        {
          "output_type": "stream",
          "text": [
            "[93 74 80 81 33 39 18 31 50 11 44 30 72 26 60 83 95 14 54 49 73 80 86 80\n",
            " 19 53 84 40 68 36 74 27 80 74 62 27 37 81 98 19 48 20 81 78 40 61 61 57\n",
            " 18 39 78 49 14 97 53 61 38 39 69 32 24 28 65 73 80 30 63 97 89 67 44 24\n",
            " 14 50 40 76 12 65 33 74 41 96 60 87 84 61 65 82 69 93 51 55 14 65 90 35\n",
            " 60 28 34 77 56 66 40 70 30 27 68 15 95 21 69 22 67 54 45 81 72 89 32 98\n",
            " 16 47 45 58 46 93 81 16 61 61 48 77 16 54 62 97 24 27 34 27 17 29 72 75\n",
            " 46 45 97 31 96 41 89 35 46 13 22 97 80 92 71 32 35 33 77 80 12 69 19 27\n",
            " 86 51 99 73 55 63 90 93 44 89 63 99 19 16 38 64 53 99 99 85 36 50 28 33\n",
            " 95 68 50 14 47 24 85 63 65]\n",
            "\n",
            " 200 \n",
            "\n"
          ],
          "name": "stdout"
        },
        {
          "output_type": "execute_result",
          "data": {
            "text/plain": [
              "array([-0.99999969, -0.99979304,  0.99746106, -0.9999746 ,  1.        ,\n",
              "       -0.99950025, -0.37219563,  0.83246854, -0.718536  ,  0.99999998,\n",
              "       -0.99628073, -0.99792352,  0.99999996,  0.99864125,  0.98584824,\n",
              "       -1.        ,  0.96877322,  0.99994823, -0.99500467,  1.        ,\n",
              "       -1.        ,  1.        ,  0.96604815,  0.99999999,  1.        ,\n",
              "       -0.96926666,  0.99864708, -0.84627744,  0.33692842,  0.98086042,\n",
              "       -0.27669548, -0.99249554, -0.9380365 , -0.96584823,  1.        ,\n",
              "        0.99773698,  1.        ,  0.978568  ,  1.        , -0.99999734,\n",
              "       -0.52171139,  0.99972689, -0.99999139,  1.        ,  0.93282569,\n",
              "        0.99999192,  0.60247861, -0.99657484, -0.999986  , -0.89935116,\n",
              "       -1.        , -0.99941792, -0.6565373 ,  0.99985522,  1.        ,\n",
              "       -1.        , -0.80575161, -1.        , -1.        , -0.99982908,\n",
              "        0.95818706, -0.99995566, -0.78056864,  0.93569328, -0.99999266])"
            ]
          },
          "metadata": {
            "tags": []
          },
          "execution_count": 29
        }
      ]
    },
    {
      "cell_type": "code",
      "metadata": {
        "id": "gpjZxz62jGKW",
        "outputId": "b5ce8a13-f7eb-4ac4-8367-d375b4aa0410",
        "colab": {
          "base_uri": "https://localhost:8080/",
          "height": 225
        }
      },
      "source": [
        "test_layers=np.random.randint(10, high=100, size=51)\n",
        "print(test_layers)\n",
        "test_activations= ['tanh' for i in range(50)]\n",
        "test_deep_net=NN(test_layers,test_activations)\n",
        "print('\\n',len(test_deep_net.layers),'\\n')\n",
        "test_deep_net.forward_pass(np.random.randn(test_layers[0]))"
      ],
      "execution_count": null,
      "outputs": [
        {
          "output_type": "stream",
          "text": [
            "[96 65 86 58 83 98 92 62 46 49 63 96 53 50 33 68 66 33 27 49 79 87 66 31\n",
            " 22 91 69 45 43 13 44 43 59 57 69 34 90 80 50 60 19 25 31 10 34 53 83 13\n",
            " 23 19 26]\n",
            "\n",
            " 50 \n",
            "\n"
          ],
          "name": "stdout"
        },
        {
          "output_type": "execute_result",
          "data": {
            "text/plain": [
              "array([ 0.92612539, -0.9635595 , -0.8949445 ,  0.80202444,  0.10086739,\n",
              "        0.98993932, -0.73592763, -0.99349351, -0.99733665, -0.99998317,\n",
              "       -0.98846613, -0.99999839,  0.60141797, -0.96490394, -0.36459333,\n",
              "       -0.84622335, -0.7661992 ,  0.97128684,  0.9939122 , -0.93520048,\n",
              "       -0.9918251 ,  0.99950576,  0.8530045 , -0.99999576, -0.99498954,\n",
              "        0.60336811])"
            ]
          },
          "metadata": {
            "tags": []
          },
          "execution_count": 40
        }
      ]
    }
  ]
}
