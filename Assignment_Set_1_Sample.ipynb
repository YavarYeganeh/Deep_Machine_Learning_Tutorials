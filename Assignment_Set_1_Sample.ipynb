{
  "nbformat": 4,
  "nbformat_minor": 0,
  "metadata": {
    "kernelspec": {
      "display_name": "Python 3",
      "language": "python",
      "name": "python3"
    },
    "language_info": {
      "codemirror_mode": {
        "name": "ipython",
        "version": 3
      },
      "file_extension": ".py",
      "mimetype": "text/x-python",
      "name": "python",
      "nbconvert_exporter": "python",
      "pygments_lexer": "ipython3",
      "version": "3.7.6"
    },
    "colab": {
      "name": "Assignment-Set-1_Sample.ipynb",
      "provenance": []
    }
  },
  "cells": [
    {
      "cell_type": "markdown",
      "metadata": {
        "id": "FOnVyhXQxVt7",
        "colab_type": "text"
      },
      "source": [
        "Assignment Set 1 by [Your_Name] for [Deep Learing/Applied Machine Learning] Course at Data Science Center, SBU "
      ]
    },
    {
      "cell_type": "code",
      "metadata": {
        "id": "F9BcydNyxVuA",
        "colab_type": "code",
        "colab": {}
      },
      "source": [
        "import time\n",
        "import numpy as np\n",
        "import pandas as pd\n",
        "import matplotlib.pyplot as plt\n",
        "import random\n",
        "import sklearn\n",
        "import tensorflow as tf\n",
        "import torch "
      ],
      "execution_count": 48,
      "outputs": []
    },
    {
      "cell_type": "code",
      "metadata": {
        "id": "KVP_jvJ2xnpr",
        "colab_type": "code",
        "colab": {}
      },
      "source": [
        "print(\"Scikit-learn Version: \", sklearn.__version__)\n",
        "print(\"TensorFlow Version: \", tf.__version__)\n",
        "print(\"PyTorch Version: \", torch.__version__)"
      ],
      "execution_count": null,
      "outputs": []
    },
    {
      "cell_type": "code",
      "metadata": {
        "id": "XAuFwyIuxVuT",
        "colab_type": "code",
        "colab": {}
      },
      "source": [
        "start_time = time.time()\n",
        "data = {'a': np.arange(500),\n",
        "        'c': np.random.randint(0, 500, 500),\n",
        "        'd': np.random.randn(500)}\n",
        "data['b'] = data['a'] + 5 * np.random.randn(500)\n",
        "data['d'] = np.abs(data['d']) * 100\n",
        "plt.scatter('a', 'b', c='c', s='d', data=data)\n",
        "plt.xlabel('A')\n",
        "plt.ylabel('B')\n",
        "plt.show()\n",
        "df = pd.DataFrame(np.random.randn(10, 5)) \n",
        "print(df)\n",
        "j=np.pi\n",
        "for i in range(100000000):\n",
        "  j+=j    \n",
        "print(\"\\n-> Execution Time = %s in Seconds <-\" % (time.time() - start_time))\n"
      ],
      "execution_count": null,
      "outputs": []
    }
  ]
}